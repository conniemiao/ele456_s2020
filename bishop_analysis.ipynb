{
 "cells": [
  {
   "cell_type": "markdown",
   "metadata": {},
   "source": [
    "Bishop et al: https://www.nature.com/articles/nphys1154\n",
    "\n",
    "Qutip reference:\n",
    "\n",
    "https://nbviewer.jupyter.org/github/qutip/qutip-notebooks/blob/master/examples/rabi-oscillations.ipynb\n",
    "\n",
    "https://nbviewer.jupyter.org/github/qutip/qutip-notebooks/blob/master/examples/ultrastrong-coupling-groundstate.ipynb\n",
    "\n",
    "http://qutip.org/docs/3.1.0/apidoc/functions.html\n",
    "\n",
    "Koch 2007: https://arxiv.org/pdf/cond-mat/0703002.pdf"
   ]
  },
  {
   "cell_type": "code",
   "execution_count": 1,
   "metadata": {},
   "outputs": [],
   "source": [
    "%matplotlib inline"
   ]
  },
  {
   "cell_type": "code",
   "execution_count": 2,
   "metadata": {
    "scrolled": true
   },
   "outputs": [],
   "source": [
    "import matplotlib.pyplot as plt\n",
    "import numpy as np\n",
    "from scipy import optimize, stats, integrate\n",
    "from qutip import *\n",
    "# Note to self: ^ IS NOT POWER, ** IS POWER"
   ]
  },
  {
   "cell_type": "code",
   "execution_count": 3,
   "metadata": {},
   "outputs": [],
   "source": [
    "# h = 6.62607004*10**(-34)\n",
    "hbar = 1 # NECESSARY TO MAKE SOLVER WORK\n",
    "h = hbar*2*np.pi\n",
    "\n",
    "# Unit conversions\n",
    "# MHz = 10.0**6\n",
    "# GHz = 10.0**9\n",
    "# kHz = 10.0**3\n",
    "# mus = 10.0**-6\n",
    "# ns = 10.0**-9\n",
    "MHz = 10.0**(-3)\n",
    "GHz = 1.0 # NECESSARY TO MAKE SOLVER WORK\n",
    "kHz = 10.0**(-6)\n",
    "mus = 10.0**3\n",
    "ns = 1.0\n",
    "\n",
    "# Transmon constants\n",
    "EC = 400*MHz*h\n",
    "EJ = 41.714285714285715*EC # temporary, this will be defined later as bestEJ\n",
    "\n",
    "# number of cavity states\n",
    "# Nr = 3\n",
    "Nr = 5\n",
    "# number of transmon states\n",
    "Nj = 2\n",
    "\n",
    "# cavity/resonator frequency\n",
    "wr = 2*np.pi*6.92*GHz\n",
    "# drive frequency (from supplementary info)\n",
    "wd = 2*np.pi*6.93*GHz\n",
    "\n",
    "# transmon-resonator coupling strength\n",
    "g01 = np.pi*347*MHz\n",
    "g02 = np.pi*94.4*MHz\n",
    "\n",
    "# cavity dissipation rate\n",
    "kappa = 2*np.pi*300*kHz\n",
    "# transmon relaxation rate (2pi/T1)\n",
    "T1 = 1.7*mus\n",
    "gamma1 = 2*np.pi/(T1)\n",
    "# transmon dephasing rate\n",
    "gammaphi = 0.0\n",
    "\n",
    "\n",
    "# for the TLS stuff\n",
    "T1p = 2/(gamma1+kappa)\n",
    "T2p = 4/(gamma1+2*gammaphi+kappa)\n",
    "\n",
    "a = tensor(destroy(Nr), qeye(Nj)) # cavity op"
   ]
  },
  {
   "cell_type": "code",
   "execution_count": 4,
   "metadata": {},
   "outputs": [
    {
     "name": "stdout",
     "output_type": "stream",
     "text": [
      "[ 0.         43.39883658]\n",
      "45.91211070202444\n"
     ]
    }
   ],
   "source": [
    "# Transmon corrected energies from perturbation theory (Koch p. 19)\n",
    "def getWj(EC, EJ):\n",
    "    b = destroy(Nj) # pure SHO operators\n",
    "    Hsho = np.sqrt(8*EC*EJ)*(b.dag()*b + 1/2)-EJ\n",
    "    evals, ekets = Hsho.eigenstates()\n",
    "    ECorrect = [evals[j] - EC/12*(6*j**2 + 6*j + 3) for j in range(Nj)]\n",
    "    ECorrect = ECorrect - ECorrect[0] # adjust so that first level has 0 point energy\n",
    "    return np.asarray(ECorrect)/hbar\n",
    "\n",
    "print(getWj(EC, EJ)/GHz)\n",
    "print(np.sqrt(8*EJ*EC)/GHz)\n",
    "\n",
    "def getWij(i, j, EC, EJ):\n",
    "    wj = getWj(EC, EJ)\n",
    "    return wj[j]-wj[i]\n",
    "\n",
    "# Transmon states from perturbation theory (Koch p. 19)\n",
    "def getJKets(EC, EJ):\n",
    "    b = destroy(Nj) # pure SHO operators\n",
    "    Hsho = np.sqrt(8*EC*EJ)*(b.dag()*b + 1/2)-EJ\n",
    "    evals, ekets = Hsho.eigenstates()\n",
    "#     print(evals/hbar)\n",
    "    ECorrect = [evals[j] - EC/12*(6*j**2 + 6*j + 3) for j in range(Nj)]\n",
    "#     print(\"%.3e\" % (ECorrect[0]/hbar))\n",
    "#     print(\"alpha/EC: %.2f\" % ((ECorrect[2]-ECorrect[1]-(ECorrect[1]-ECorrect[0]))/(hbar*EC)))\n",
    "    jketsCorrect = np.copy(ekets)\n",
    "    jkets1 = np.asarray([0*basis(Nj,0)]*Nj, dtype=object)\n",
    "    for j in range(Nj):\n",
    "        for i in range(Nj):\n",
    "            if i == j: continue\n",
    "            quartic = (b+b.dag())**4\n",
    "            element = quartic.matrix_element(ekets[i], ekets[j])\n",
    "            jkets1[j] += (element*ekets[i])/(ECorrect[i]-ECorrect[j])\n",
    "        jkets1[j] *= -EC/12\n",
    "    jketsCorrect += jkets1\n",
    "    \n",
    "    return jketsCorrect\n",
    "\n",
    "# getJKets(EC, EJ)"
   ]
  },
  {
   "cell_type": "code",
   "execution_count": 5,
   "metadata": {},
   "outputs": [],
   "source": [
    "# also known as the nkets\n",
    "def getPhotonKets():\n",
    "    a = destroy(Nr)\n",
    "    H = hbar*wr*a.dag()*a\n",
    "    # need to include the drive term here??\n",
    "    evals, ekets = H.eigenstates()\n",
    "    return ekets"
   ]
  },
  {
   "cell_type": "code",
   "execution_count": 6,
   "metadata": {
    "scrolled": true
   },
   "outputs": [],
   "source": [
    "# JC with coherent drive (Bishop p. 1)\n",
    "\n",
    "def getHjc(xi, wd, EC, EJ, jkets, pN, g0):\n",
    "    wj = getWj(EC, EJ)\n",
    "    gj = g0 * np.asarray([np.sqrt(j+1) for j in range(Nj)])\n",
    "    Hjc_0 = hbar*wr*(a.dag()*a+1/2)\n",
    "    for j in range(Nj):\n",
    "        Hjc_0 += hbar*wj[j]*tensor(qeye(Nr), ket2dm(jkets[j]))\n",
    "    for j in range(Nj-1):\n",
    "        temp = a*tensor(qeye(Nr), jkets[j+1]*jkets[j].dag())\n",
    "        Hjc_0 += hbar*gj[j]*(temp + temp.dag())\n",
    "    Hjc_0 = pN*Hjc_0\n",
    "    \n",
    "    # Break up Hjc into time independent, dependent to put into mesolve\n",
    "    # (See http://qutip.org/docs/latest/guide/dynamics/dynamics-time.html)\n",
    "    Hjc_1 = hbar*xi*a.dag()\n",
    "    Hjc_1 = pN*Hjc_1\n",
    "    Hjc_2 = hbar*xi*a\n",
    "    Hjc_2 = pN*Hjc_2\n",
    "    def Hjc1_time_dep(t, args):\n",
    "        return np.exp(-1j*wd*t)\n",
    "    def Hjc2_time_dep(t, args):\n",
    "        return np.exp(1j*wd*t)\n",
    "    \n",
    "    Hjc = [Hjc_0, [Hjc_1, Hjc1_time_dep], [Hjc_2, Hjc2_time_dep]]\n",
    "    # Hjc = Hjc_0\n",
    "    # print(Hjc_0)\n",
    "    return Hjc\n",
    "\n",
    "# projection operator onto total n+j = N excitations\n",
    "def projN(N, nkets, jkets):\n",
    "    pN = 0*tensor(qeye(Nr), qeye(Nj))\n",
    "    for n in range(Nr):\n",
    "        for j in range(Nj):\n",
    "            if n+j > N: continue\n",
    "#             print(n,j)\n",
    "            njKet = tensor(nkets[n], jkets[j])\n",
    "            pN += ket2dm(njKet)\n",
    "    return pN"
   ]
  },
  {
   "cell_type": "markdown",
   "metadata": {},
   "source": [
    "# TLS mapping:\n",
    "\n",
    "(Figure 2 green lines)"
   ]
  },
  {
   "cell_type": "code",
   "execution_count": 7,
   "metadata": {},
   "outputs": [],
   "source": [
    "def intensityTLS(xi, wd, EC, EJ, g0):\n",
    "    Omega = np.sqrt(2)*xi\n",
    "    Delta = getWij(0, 1, EC, EJ)-g0-wd\n",
    "    numerator = T2p*Omega*np.sqrt((Delta**2*T2p**2 + 1)/2)\n",
    "    denominator = Delta**2*T2p**2 + T1p*T2p*Omega**2 + 1\n",
    "    return (numerator/denominator)**2/4 # A^2/A1^2\n",
    "\n",
    "# analytical steady state dm for use in mesolve\n",
    "def rhoSteady(xi, wd, EC, EJ, g0):\n",
    "    Omega = np.sqrt(2)*xi\n",
    "    Delta = getWij(0, 1, EC, EJ)-g0-wd\n",
    "    x = -(Delta*T2p**2*Omega)/(1+Delta**2*T2p**2 + T1p*T2p*Omega**2)\n",
    "    y = (T2p*Omega)/(1 + Delta**2*T2p**2 + T1p*T2p*Omega**2)\n",
    "    z = -(1 + Delta**2*T2p**2)/(1 + Delta**2*T2p**2 + T1p*T2p*Omega**2)\n",
    "    nkets = getPhotonKets()\n",
    "    jkets = getJKets(EC, EJ)\n",
    "    down = tensor(nkets[0], jkets[0])\n",
    "    up = (tensor(nkets[0], jkets[0]) - tensor(nkets[0], jkets[1]))/np.sqrt(2)\n",
    "    Sigmax = up*down.dag() + down*up.dag()\n",
    "    Sigmay = 1j*(-up*down.dag() + down*up.dag())\n",
    "    Sigmaz = up*up.dag() - down*down.dag()\n",
    "    rho = (tensor(qeye(Nr), qeye(Nj)) + x*Sigmax + y*Sigmay + z*Sigmaz)/2\n",
    "    return rho"
   ]
  },
  {
   "cell_type": "markdown",
   "metadata": {},
   "source": [
    "### Get best EJ"
   ]
  },
  {
   "cell_type": "code",
   "execution_count": 8,
   "metadata": {},
   "outputs": [],
   "source": [
    "def getBestEJ(EC, g0):\n",
    "    nPoints = 100\n",
    "    xData = np.linspace(6.5*GHz, 7.1*GHz, num = nPoints)\n",
    "    yData = []\n",
    "\n",
    "    # drive strength: expect supersplitting when strength>1\n",
    "    strength = 0.1\n",
    "    xi = (1/np.sqrt(2*T1p*T2p))*strength\n",
    "    # print(xi)\n",
    "\n",
    "    # Find the EJ that gets you closest to the one in the paper\n",
    "    EJtry = np.linspace(41*EC, 42*EC, num = 50)\n",
    "    bestEJ = 0\n",
    "    minDist = 1000*GHz\n",
    "    closestFreq = 0\n",
    "    for EJ in EJtry:\n",
    "        yData = []\n",
    "        for fd in xData:\n",
    "            yData.append(intensityTLS(xi, fd*2*np.pi, EC, EJ, g0))\n",
    "        peakI = np.max(yData)\n",
    "        peakFreqLoc = np.where(yData == peakI)[0][0]\n",
    "        peakFreq = xData[peakFreqLoc]\n",
    "        if np.abs(peakFreq - 6.734*GHz) < minDist:\n",
    "            bestEJ = EJ\n",
    "            closestFreq = peakFreq\n",
    "            minDist = np.abs(peakFreq - 6.734*GHz)\n",
    "    print(bestEJ/EC)\n",
    "    print(closestFreq/GHz)\n",
    "    return bestEJ"
   ]
  },
  {
   "cell_type": "markdown",
   "metadata": {},
   "source": [
    "### Fig 2 green lines"
   ]
  },
  {
   "cell_type": "code",
   "execution_count": 9,
   "metadata": {},
   "outputs": [],
   "source": [
    "g0 = g01\n",
    "# bestEJ = getBestEJ(EC, g0)\n",
    "bestEJ = 41.714285714285715*EC"
   ]
  },
  {
   "cell_type": "code",
   "execution_count": 10,
   "metadata": {},
   "outputs": [
    {
     "name": "stdout",
     "output_type": "stream",
     "text": [
      "Done with strength=0.8\n"
     ]
    },
    {
     "data": {
      "image/png": "[encoded data removed]",
      "text/plain": [
       "<Figure size 432x288 with 1 Axes>"
      ]
     },
     "metadata": {
      "needs_background": "light"
     },
     "output_type": "display_data"
    },
    {
     "name": "stdout",
     "output_type": "stream",
     "text": [
      "Done with strength=1.7\n"
     ]
    },
    {
     "data": {
      "image/png": "[encoded data removed]",
      "text/plain": [
       "<Figure size 432x288 with 1 Axes>"
      ]
     },
     "metadata": {
      "needs_background": "light"
     },
     "output_type": "display_data"
    },
    {
     "name": "stdout",
     "output_type": "stream",
     "text": [
      "Done with strength=5.0\n"
     ]
    },
    {
     "data": {
      "image/png": "[encoded data removed]",
      "text/plain": [
       "<Figure size 432x288 with 1 Axes>"
      ]
     },
     "metadata": {
      "needs_background": "light"
     },
     "output_type": "display_data"
    },
    {
     "name": "stdout",
     "output_type": "stream",
     "text": [
      "Done with strength=20.0\n"
     ]
    },
    {
     "data": {
      "image/png": "[encoded data removed]",
      "text/plain": [
       "<Figure size 432x288 with 1 Axes>"
      ]
     },
     "metadata": {
      "needs_background": "light"
     },
     "output_type": "display_data"
    }
   ],
   "source": [
    "nPoints = 500\n",
    "xData = np.linspace(6.72*GHz, 6.745*GHz, num = nPoints)\n",
    "\n",
    "# drive strength: expect supersplitting when strength>1\n",
    "for strength in [0.8, 1.7, 5, 20]:\n",
    "    xi = (1/np.sqrt(2*T1p*T2p))*strength\n",
    "    fig2TLSYData = []\n",
    "    for i, fd in enumerate(xData):\n",
    "#         if i % 100 == 0:\n",
    "#             print(\"%d of %d done\" % (i, nPoints))\n",
    "        fig2TLSYData.append(intensityTLS(xi, fd*2*np.pi, EC, bestEJ, g0))\n",
    "    print(\"Done with strength=%.1f\" % strength)\n",
    "    \n",
    "    plt.plot(xData, fig2TLSYData)\n",
    "    plt.xlabel('Drive frequency (GHz)')\n",
    "    plt.ylabel('Transmitted intensity A^2/A1^2')\n",
    "    plt.ylim(0, 0.1)\n",
    "    plt.title(\"Intensity at xi=%f\" % xi)\n",
    "    plt.show()"
   ]
  },
  {
   "cell_type": "markdown",
   "metadata": {},
   "source": [
    "# Master eqn solver:\n",
    "\n",
    "(Figure 2 black lines)"
   ]
  },
  {
   "cell_type": "code",
   "execution_count": 11,
   "metadata": {},
   "outputs": [],
   "source": [
    "# charge dispersion (from Koch eq. 2.5)\n",
    "def betaj(EC, EJ):\n",
    "    epj = [((-1)**m * EC * 2**(4*m+5)/(np.math.factorial(m)) * \\\n",
    "        np.sqrt(2/np.pi) * (EJ/(2*EC))**(m/2+3/4) * \\\n",
    "        np.exp(-np.sqrt(8*EJ/EC))) \\\n",
    "       for m in range(Nj)]\n",
    "    return 2*epj/(epj[1]-epj[0])\n",
    "\n",
    "# Get the steady state intensity\n",
    "def intensity(xi, wd, EC, EJ, g0):\n",
    "    jkets = getJKets(EC, EJ)\n",
    "    nkets = getPhotonKets()\n",
    "    # truncate to N = 7 Hilbert space\n",
    "    pN = projN(7, nkets, jkets)\n",
    "    # print(pN)\n",
    "#     pN = tensor(qeye(Nr), qeye(Nj))\n",
    "    \n",
    "    # Damping terms\n",
    "    c_ops = []\n",
    "    c_ops.append(kappa*lindblad_dissipator(a))\n",
    "    \n",
    "    \n",
    "    # relative strengths of damping\n",
    "    gj = g0 * np.asarray([np.sqrt(j+1) for j in range(Nj)])\n",
    "    alphaj = gj/g0\n",
    "    temp = 0*tensor(qeye(Nr), qeye(Nj))\n",
    "    for j in range(Nj-1):\n",
    "        temp += alphaj[j]*jkets[j].dag()*jkets[j+1]\n",
    "    c_ops.append(gamma1*lindblad_dissipator(temp))\n",
    "    \n",
    "    temp = 0*tensor(qeye(Nr), qeye(Nj))\n",
    "    for j in range(Nj-1):\n",
    "        temp += betaj(EC, EJ)[j]*jkets[j].dag()*jkets[j]\n",
    "    c_ops.append(gammaphi/2*lindblad_dissipator(temp))\n",
    "    \n",
    "#     gnd = tensor(basis(Nr,1), basis(Nj,0)) # |1,g>\n",
    "#     # print(gnd)\n",
    "#     rho0 = ket2dm(gnd)\n",
    "    rho0 = rhoSteady(xi, wd, EC, EJ, g0)\n",
    "    \n",
    "    maxT = 0.5*T1 # ideally this would be longer but it's taking too long to run\n",
    "    times = np.linspace(0, maxT, num=int(maxT))\n",
    "    \n",
    "    Hjc = getHjc(xi, wd, EC, EJ, jkets, pN, g0)\n",
    "    \n",
    "    # Bishop Eq. 2 (steady state transmission amp)\n",
    "    \n",
    "    \n",
    "    # Output from tr(a*rho_s)\n",
    "    # output = mesolve(Hjc, rho0, times, c_ops, [a], options=Options(nsteps=100000))\n",
    "    # rho_t = output.states # rho(t)\n",
    "    # print(rho_t)\n",
    "#     expect_a = (a*rho0).tr()\n",
    "#     # print(expect_a)\n",
    "#     intensity_t = np.abs(expect_a)**2 # A^2/A1^2\n",
    "#     return intensity_t\n",
    "    \n",
    "    # Output from <a>\n",
    "    output = mesolve(Hjc, rho0, times, c_ops, [a])\n",
    "    expect_a = output.expect[0]\n",
    "    intensity_t = np.abs(expect_a)**2 # A^2/A1^2\n",
    "    # print(intensity_t)\n",
    "    result = np.average(intensity_t[int(maxT)-10:])\n",
    "    return result\n",
    "\n",
    "# print(intensity(xi, wd, EC, EJ))"
   ]
  },
  {
   "cell_type": "markdown",
   "metadata": {},
   "source": [
    "### Fig 2 black lines"
   ]
  },
  {
   "cell_type": "code",
   "execution_count": 12,
   "metadata": {},
   "outputs": [],
   "source": [
    "g0 = g01\n",
    "# bestEJ = getBestEJ(EC, g0)\n",
    "bestEJ = 41.714285714285715*EC"
   ]
  },
  {
   "cell_type": "code",
   "execution_count": null,
   "metadata": {},
   "outputs": [
    {
     "name": "stdout",
     "output_type": "stream",
     "text": [
      "0 of 100 done\n",
      "10 of 100 done\n",
      "20 of 100 done\n",
      "30 of 100 done\n",
      "40 of 100 done\n",
      "50 of 100 done\n",
      "60 of 100 done\n",
      "70 of 100 done\n",
      "80 of 100 done\n"
     ]
    }
   ],
   "source": [
    "# this needs to be like 500 or sthg, but this already takes forever\n",
    "nPoints = 100\n",
    "# xData = np.linspace(6.72*GHz, 6.745*GHz, num = nPoints)\n",
    "xData = np.linspace(6.8*GHz, 7.05*GHz, num = nPoints)\n",
    "fig2FullYData = []\n",
    "\n",
    "    \n",
    "# drive strength: expect supersplitting when strength>1\n",
    "# strengths = [0.8, 5, 20, 100]\n",
    "strengths = [0.8, 1.7, 5, 20]\n",
    "strengths = [20]\n",
    "# strengths = []\n",
    "for strength in strengths:\n",
    "    xi = (1/np.sqrt(2*T1p*T2p))*strength\n",
    "#     xi = wd/4000\n",
    "    fig2FullYData = []\n",
    "    for i, fd in enumerate(xData):\n",
    "        if i % 10 == 0:\n",
    "            print(\"%d of %d done\" % (i, nPoints))\n",
    "#         print(\"%d of %d done\" % (i, nPoints))\n",
    "        fig2FullYData.append(intensity(xi, fd*2*np.pi, EC, bestEJ, g0))\n",
    "    print(\"Done with strength=%.1f\" % strength)\n",
    "    \n",
    "    plt.plot(xData, fig2FullYData)\n",
    "    plt.xlabel('Drive frequency (GHz)')\n",
    "    plt.ylabel('Transmitted intensity A^2/A1^2')\n",
    "#     plt.ylim(0, 0.1)\n",
    "    plt.title(\"Intensity at xi=%f\" % xi)\n",
    "    plt.show()"
   ]
  },
  {
   "cell_type": "code",
   "execution_count": null,
   "metadata": {},
   "outputs": [],
   "source": []
  }
 ],
 "metadata": {
  "kernelspec": {
   "display_name": "Python 3",
   "language": "python",
   "name": "python3"
  },
  "language_info": {
   "codemirror_mode": {
    "name": "ipython",
    "version": 3
   },
   "file_extension": ".py",
   "mimetype": "text/x-python",
   "name": "python",
   "nbconvert_exporter": "python",
   "pygments_lexer": "ipython3",
   "version": "3.7.6"
  }
 },
 "nbformat": 4,
 "nbformat_minor": 2
}
