{
 "cells": [
  {
   "cell_type": "markdown",
   "metadata": {},
   "source": [
    "Bishop et al: https://www.nature.com/articles/nphys1154\n",
    "\n",
    "Qutip reference:\n",
    "https://nbviewer.jupyter.org/github/qutip/qutip-notebooks/blob/master/examples/rabi-oscillations.ipynb\n",
    "http://qutip.org/docs/3.1.0/apidoc/functions.html\n",
    "\n",
    "Koch 2007: https://arxiv.org/pdf/cond-mat/0703002.pdf"
   ]
  },
  {
   "cell_type": "code",
   "execution_count": 1,
   "metadata": {},
   "outputs": [],
   "source": [
    "%matplotlib inline"
   ]
  },
  {
   "cell_type": "code",
   "execution_count": 2,
   "metadata": {
    "scrolled": true
   },
   "outputs": [],
   "source": [
    "import matplotlib.pyplot as plt\n",
    "import numpy as np\n",
    "from scipy import optimize, stats, integrate, stats\n",
    "from qutip import *\n",
    "# Note to self: ^ IS NOT POWER, ** IS POWER"
   ]
  },
  {
   "cell_type": "code",
   "execution_count": 24,
   "metadata": {},
   "outputs": [],
   "source": [
    "# Use hbar = 1\n",
    "\n",
    "# number of cavity states\n",
    "Nr = 5\n",
    "# number of transmon states\n",
    "Nj = 5\n",
    "# cavity/resonator frequency\n",
    "wr = 1.0  * 2 * np.pi\n",
    "# transmon frequency (temporary)\n",
    "wj = 2 * np.pi * np.asarray(range(Nj))\n",
    "# transmon-resonator coupling strength\n",
    "go = np.pi*347*10**6\n",
    "gj = go * np.asarray([np.sqrt(j+1) for j in range(Nj)])\n",
    "# drive frequency (temporary)\n",
    "wd = 2 * np.pi * 1.0\n",
    "# drive strength\n",
    "xi = 0.001\n",
    "\n",
    "# cavity dissipation rate\n",
    "kappa = 300*10**3*2*np.pi\n",
    "# transmon relaxation rate (2pi/T1)\n",
    "gamma1 = 2*np.pi/(1.7*10**-9)\n",
    "# transmon dephasing rate\n",
    "gammaphi = 0.0\n",
    "# temperature in frequency units\n",
    "n_th_a = 0.0\n",
    "# relative strengths of damping\n",
    "alphaj = gj/g0\n",
    "betaj = 2*epj/(epj[1]-epj[0])\n",
    "\n",
    "use_rwa = True\n",
    "\n",
    "# Transmon constants (temporary)\n",
    "EC = 1\n",
    "EJ = 10"
   ]
  },
  {
   "cell_type": "code",
   "execution_count": 23,
   "metadata": {},
   "outputs": [],
   "source": [
    "def comm(a, b):\n",
    "    return(a*b - b*a)"
   ]
  },
  {
   "cell_type": "code",
   "execution_count": 12,
   "metadata": {},
   "outputs": [],
   "source": [
    "# Transmon states from perturbation theory (Koch p. 19)\n",
    "b = destroy(Nj) # pure SHO operators\n",
    "Hsho = np.sqrt(8*EC*EJ)*(b.dag()*b + 1/2)-EJ\n",
    "evals, ekets = Hsho.eigenstates()\n",
    "# print(evals)\n",
    "ECorrect = [evals[j] - EC/12*(6*j**2 + 6*j + 3) for j in range(Nj)]\n",
    "# print(ECorrected)\n",
    "jketsCorrect = np.copy(ekets)\n",
    "jkets1 = np.asarray([0*basis(Nj,0)]*Nj, dtype=object)\n",
    "for j in range(Nj):\n",
    "    for i in range(Nj):\n",
    "        if i == j: continue\n",
    "        quartic = (b+b.dag())**4\n",
    "        element = quartic.matrix_element(ekets[i], ekets[j])\n",
    "        jkets1[j] += (element*ekets[i])/(ECorrect[i]-ECorrect[j])\n",
    "    jkets1[j] *= -EC/12\n",
    "#     print(jkets1[j])\n",
    "jketsCorrect += jkets1\n",
    "# print(\"EKETS\", ekets)\n",
    "# print()\n",
    "# print(\"JKETS\", jketsCorrected)\n",
    "\n",
    "jkets = jketsCorrect"
   ]
  },
  {
   "cell_type": "code",
   "execution_count": 17,
   "metadata": {},
   "outputs": [],
   "source": [
    "# JC with coherent drive (Bishop p. 1)\n",
    "a = tensor(destroy(Nr), qeye(Nj)) # cavity op\n",
    "def Hjc(t):\n",
    "    Hjc = wr*a.dag()*a\n",
    "    for j in range(Nj):\n",
    "        Hjc += wj[j] * tensor(qeye(Nr), ket2dm(jkets[j]))\n",
    "    for j in range(Nj-1):\n",
    "        temp = a*tensor(qeye(Nr), jkets[j+1]*jkets[j].dag())\n",
    "        Hjc += gj[j]*(temp + temp.dag())\n",
    "    temp = a.dag()*np.exp(-1j*wd*t)\n",
    "    Hjc += xi*(temp + temp.dag())\n",
    "    return(Hjc)\n",
    "# Hjc(0)"
   ]
  },
  {
   "cell_type": "code",
   "execution_count": null,
   "metadata": {},
   "outputs": [],
   "source": [
    "# Master eqn solver\n",
    "\n",
    "# Damping terms\n",
    "c_op_list = []\n",
    "c_op_list.append(kappa*lindblad_dissipator(a))\n",
    "\n",
    "temp \n",
    "for j in range(Nj-1):\n",
    "    temp = a*tensor(qeye(Nr), jkets[j+1]*jkets[j].dag())\n",
    "    Hjc += gj[j]*(temp + temp.dag())\n",
    "c_op_list.append(gamma1*lindblad_dissipator(temp))"
   ]
  }
 ],
 "metadata": {
  "kernelspec": {
   "display_name": "Python 3",
   "language": "python",
   "name": "python3"
  },
  "language_info": {
   "codemirror_mode": {
    "name": "ipython",
    "version": 3
   },
   "file_extension": ".py",
   "mimetype": "text/x-python",
   "name": "python",
   "nbconvert_exporter": "python",
   "pygments_lexer": "ipython3",
   "version": "3.7.4"
  }
 },
 "nbformat": 4,
 "nbformat_minor": 2
}
