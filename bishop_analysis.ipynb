{
 "cells": [
  {
   "cell_type": "markdown",
   "metadata": {},
   "source": [
    "Bishop et al: https://www.nature.com/articles/nphys1154\n",
    "\n",
    "Qutip reference:\n",
    "\n",
    "https://nbviewer.jupyter.org/github/qutip/qutip-notebooks/blob/master/examples/rabi-oscillations.ipynb\n",
    "\n",
    "https://nbviewer.jupyter.org/github/qutip/qutip-notebooks/blob/master/examples/ultrastrong-coupling-groundstate.ipynb\n",
    "\n",
    "http://qutip.org/docs/3.1.0/apidoc/functions.html\n",
    "\n",
    "Koch 2007: https://arxiv.org/pdf/cond-mat/0703002.pdf"
   ]
  },
  {
   "cell_type": "code",
   "execution_count": 1,
   "metadata": {},
   "outputs": [],
   "source": [
    "%matplotlib inline"
   ]
  },
  {
   "cell_type": "code",
   "execution_count": 2,
   "metadata": {
    "scrolled": true
   },
   "outputs": [],
   "source": [
    "import matplotlib.pyplot as plt\n",
    "import numpy as np\n",
    "from scipy import optimize, stats, integrate\n",
    "from qutip import *\n",
    "# Note to self: ^ IS NOT POWER, ** IS POWER"
   ]
  },
  {
   "cell_type": "code",
   "execution_count": 3,
   "metadata": {},
   "outputs": [],
   "source": [
    "# h = 6.62607004*10**(-34)\n",
    "hbar = 1 # NECESSARY TO MAKE SOLVER WORK\n",
    "h = hbar*2*np.pi\n",
    "\n",
    "# Unit conversions\n",
    "# MHz = 10.0**6\n",
    "# GHz = 10.0**9\n",
    "# kHz = 10.0**3\n",
    "# mus = 10.0**-6\n",
    "# ns = 10.0**-9\n",
    "MHz = 10.0**(-3)\n",
    "GHz = 1.0 # NECESSARY TO MAKE SOLVER WORK\n",
    "kHz = 10.0**(-6)\n",
    "mus = 10.0**3\n",
    "ns = 1.0\n",
    "\n",
    "# Transmon constants\n",
    "EC = 400*MHz*h\n",
    "# EJ = 41.7*EC # temporary, this will be defined later as bestEJ\n",
    "\n",
    "# number of cavity states\n",
    "# Nr = 3\n",
    "Nr = 5\n",
    "# number of transmon states\n",
    "Nj = 5\n",
    "\n",
    "# cavity/resonator frequency\n",
    "wr = 2*np.pi*6.92*GHz\n",
    "# transmon frequency (temporary)\n",
    "wj = np.asarray([wr]*Nj)\n",
    "# drive frequency (temporary)\n",
    "wd = wr\n",
    "\n",
    "# transmon-resonator coupling strength\n",
    "g0 = np.pi*347*MHz\n",
    "gj = g0 * np.asarray([np.sqrt(j+1) for j in range(Nj)])\n",
    "\n",
    "# cavity dissipation rate\n",
    "kappa = 2*np.pi*300*kHz\n",
    "# transmon relaxation rate (2pi/T1)\n",
    "T1 = 1.7*mus\n",
    "gamma1 = 2*np.pi/(T1)\n",
    "# transmon dephasing rate\n",
    "gammaphi = 0.0\n",
    "# relative strengths of damping\n",
    "alphaj = gj/g0\n",
    "\n",
    "# for the TLS stuff\n",
    "T1p = 2/(gamma1+kappa)\n",
    "T2p = 4/(gamma1+2*gammaphi+kappa)\n",
    "\n",
    "use_rwa = True\n",
    "\n",
    "a = tensor(destroy(Nr), qeye(Nj)) # cavity op"
   ]
  },
  {
   "cell_type": "code",
   "execution_count": 4,
   "metadata": {},
   "outputs": [],
   "source": [
    "# Transmon corrected energies from perturbation theory (Koch p. 19)\n",
    "def getWij(i, j, EC, EJ):\n",
    "    b = destroy(Nj) # pure SHO operators\n",
    "    Hsho = np.sqrt(8*EC*EJ)*(b.dag()*b + 1/2)-EJ\n",
    "    evals, ekets = Hsho.eigenstates()\n",
    "    ECorrect = [evals[j] - EC/12*(6*j**2 + 6*j + 3) for j in range(Nj)]\n",
    "    return (ECorrect[j]-ECorrect[i])/hbar\n",
    "\n",
    "# Transmon states from perturbation theory (Koch p. 19)\n",
    "def getJKets(EC, EJ):\n",
    "    b = destroy(Nj) # pure SHO operators\n",
    "    Hsho = np.sqrt(8*EC*EJ)*(b.dag()*b + 1/2)-EJ\n",
    "    evals, ekets = Hsho.eigenstates()\n",
    "#     print(evals/hbar)\n",
    "    ECorrect = [evals[j] - EC/12*(6*j**2 + 6*j + 3) for j in range(Nj)]\n",
    "#     print(\"%.3e\" % (ECorrect[0]/hbar))\n",
    "#     print(\"alpha/EC: %.2f\" % ((ECorrect[2]-ECorrect[1]-(ECorrect[1]-ECorrect[0]))/(hbar*EC)))\n",
    "    jketsCorrect = np.copy(ekets)\n",
    "    jkets1 = np.asarray([0*basis(Nj,0)]*Nj, dtype=object)\n",
    "    for j in range(Nj):\n",
    "        for i in range(Nj):\n",
    "            if i == j: continue\n",
    "            quartic = (b+b.dag())**4\n",
    "            element = quartic.matrix_element(ekets[i], ekets[j])\n",
    "            jkets1[j] += (element*ekets[i])/(ECorrect[i]-ECorrect[j])\n",
    "        jkets1[j] *= -EC/12\n",
    "    jketsCorrect += jkets1\n",
    "    \n",
    "    return jketsCorrect\n",
    "\n",
    "# getJKets(EC, EJ)"
   ]
  },
  {
   "cell_type": "code",
   "execution_count": 5,
   "metadata": {},
   "outputs": [],
   "source": [
    "# also known as the nkets\n",
    "def getPhotonKets():\n",
    "    a = destroy(Nr)\n",
    "    H = hbar*wr*a.dag()*a\n",
    "    # need to include the drive term here??\n",
    "    evals, ekets = H.eigenstates()\n",
    "    return ekets"
   ]
  },
  {
   "cell_type": "code",
   "execution_count": 6,
   "metadata": {
    "scrolled": true
   },
   "outputs": [],
   "source": [
    "# JC with coherent drive (Bishop p. 1)\n",
    "\n",
    "def getHjc(xi, wd, jkets, pN):\n",
    "    Hjc_0 = hbar*wr*a.dag()*a\n",
    "    for j in range(Nj):\n",
    "        Hjc_0 += hbar*wj[j]*tensor(qeye(Nr), ket2dm(jkets[j]))\n",
    "    for j in range(Nj-1):\n",
    "        temp = a*tensor(qeye(Nr), jkets[j+1]*jkets[j].dag())\n",
    "        Hjc_0 += hbar*gj[j]*(temp + temp.dag())\n",
    "    Hjc_0 = pN*Hjc_0\n",
    "    \n",
    "    # Break up Hjc into time independent, dependent to put into mesolve\n",
    "    # (See http://qutip.org/docs/latest/guide/dynamics/dynamics-time.html)\n",
    "    Hjc_1 = hbar*xi*a.dag()\n",
    "    Hjc_1 = pN*Hjc_1\n",
    "    Hjc_2 = hbar*xi*a\n",
    "    Hjc_2 = pN*Hjc_2\n",
    "    def Hjc1_time_dep(t, args):\n",
    "        return np.exp(-1j*wd*t)\n",
    "    def Hjc2_time_dep(t, args):\n",
    "        return np.exp(1j*wd*t)\n",
    "    \n",
    "    Hjc = [Hjc_0, [Hjc_1, Hjc1_time_dep], [Hjc_2, Hjc2_time_dep]]\n",
    "    # Hjc = Hjc_0\n",
    "    # print(Hjc_0)\n",
    "    return Hjc\n",
    "\n",
    "# projection operator onto total n+j = N excitations\n",
    "def projN(N, nkets, jkets):\n",
    "    pN = 0*tensor(qeye(Nr), qeye(Nj))\n",
    "    for n in range(Nr):\n",
    "        for j in range(Nj):\n",
    "            if n+j > N: continue\n",
    "#             print(n,j)\n",
    "            njKet = tensor(nkets[n], jkets[j])\n",
    "            pN += ket2dm(njKet)\n",
    "    return pN"
   ]
  },
  {
   "cell_type": "markdown",
   "metadata": {},
   "source": [
    "# TLS mapping:\n",
    "\n",
    "(Figure 2 green lines)"
   ]
  },
  {
   "cell_type": "code",
   "execution_count": 7,
   "metadata": {},
   "outputs": [],
   "source": [
    "def intensityTLS(xi, wd, EC, EJ):\n",
    "    Omega = np.sqrt(2)*xi\n",
    "    Delta = getWij(0, 1, EC, EJ)-g0-wd\n",
    "    numerator = T2p*Omega*np.sqrt((Delta**2*T2p**2 + 1)/2)\n",
    "    denominator = Delta**2*T2p**2 + T1p*T2p*Omega**2 + 1\n",
    "    return (numerator/denominator)**2/4 # A^2/A1^2"
   ]
  },
  {
   "cell_type": "markdown",
   "metadata": {},
   "source": [
    "### Get best EJ"
   ]
  },
  {
   "cell_type": "code",
   "execution_count": 18,
   "metadata": {},
   "outputs": [
    {
     "name": "stdout",
     "output_type": "stream",
     "text": [
      "41.714285714285715\n",
      "6.736363636363636\n"
     ]
    }
   ],
   "source": [
    "nPoints = 100\n",
    "xData = np.linspace(6.5*GHz, 7.1*GHz, num = nPoints)\n",
    "yData = []\n",
    "\n",
    "# drive strength: expect supersplitting when strength>1\n",
    "strength = 0.1\n",
    "xi = (1/np.sqrt(2*T1p*T2p))*strength\n",
    "# print(xi)\n",
    "\n",
    "\n",
    "# Find the EJ that gets you closest to the one in the paper\n",
    "EJtry = np.linspace(41*EC, 42*EC, num = 50)\n",
    "bestEJ = 0\n",
    "minDist = 1000*GHz\n",
    "closestFreq = 0\n",
    "for EJ in EJtry:\n",
    "    yData = []\n",
    "    for fd in xData:\n",
    "        yData.append(intensityTLS(xi, fd*2*np.pi, EC, EJ))\n",
    "    peakI = np.max(yData)\n",
    "    peakFreqLoc = np.where(yData == peakI)[0][0]\n",
    "    peakFreq = xData[peakFreqLoc]\n",
    "    if np.abs(peakFreq - 6.734*GHz) < minDist:\n",
    "        bestEJ = EJ\n",
    "        closestFreq = peakFreq\n",
    "        minDist = np.abs(peakFreq - 6.734*GHz)\n",
    "print(bestEJ/EC)\n",
    "print(closestFreq/GHz)"
   ]
  },
  {
   "cell_type": "code",
   "execution_count": null,
   "metadata": {},
   "outputs": [
    {
     "name": "stdout",
     "output_type": "stream",
     "text": [
      "Done with strength=0.8\n"
     ]
    },
    {
     "data": {
      "image/png": "[encoded data removed]",
      "text/plain": [
       "<Figure size 432x288 with 1 Axes>"
      ]
     },
     "metadata": {
      "needs_background": "light"
     },
     "output_type": "display_data"
    },
    {
     "name": "stdout",
     "output_type": "stream",
     "text": [
      "Done with strength=1.7\n"
     ]
    },
    {
     "data": {
      "image/png": "[encoded data removed]",
      "text/plain": [
       "<Figure size 432x288 with 1 Axes>"
      ]
     },
     "metadata": {
      "needs_background": "light"
     },
     "output_type": "display_data"
    },
    {
     "name": "stdout",
     "output_type": "stream",
     "text": [
      "Done with strength=5.0\n"
     ]
    },
    {
     "data": {
      "image/png": "[encoded data removed]",
      "text/plain": [
       "<Figure size 432x288 with 1 Axes>"
      ]
     },
     "metadata": {
      "needs_background": "light"
     },
     "output_type": "display_data"
    }
   ],
   "source": [
    "nPoints = 500\n",
    "xData = np.linspace(6.72*GHz, 6.745*GHz, num = nPoints)\n",
    "\n",
    "# drive strength: expect supersplitting when strength>1\n",
    "for strength in [0.8, 1.7, 5, 20]:\n",
    "    xi = (1/np.sqrt(2*T1p*T2p))*strength\n",
    "    fig2TLSYData = []\n",
    "    for i, fd in enumerate(xData):\n",
    "#         if i % 100 == 0:\n",
    "#             print(\"%d of %d done\" % (i, nPoints))\n",
    "        fig2TLSYData.append(intensityTLS(xi, fd*2*np.pi, EC, bestEJ))\n",
    "    print(\"Done with strength=%.1f\" % strength)\n",
    "    \n",
    "    plt.plot(xData, fig2TLSYData)\n",
    "    plt.xlabel('Drive frequency (GHz)')\n",
    "    plt.ylabel('Transmitted intensity A^2/A1^2')\n",
    "    plt.ylim(0, 0.1)\n",
    "    plt.title(\"Intensity at xi=%f\" % xi)\n",
    "    plt.show()"
   ]
  },
  {
   "cell_type": "markdown",
   "metadata": {},
   "source": [
    "# Master eqn solver:\n",
    "\n",
    "(Figure 2 black lines)"
   ]
  },
  {
   "cell_type": "code",
   "execution_count": 11,
   "metadata": {},
   "outputs": [],
   "source": [
    "# charge dispersion (from Koch eq. 2.5)\n",
    "def betaj(EC, EJ):\n",
    "    epj = [((-1)**m * EC * 2**(4*m+5)/(np.math.factorial(m)) * \\\n",
    "        np.sqrt(2/np.pi) * (EJ/(2*EC))**(m/2+3/4) * \\\n",
    "        np.exp(-np.sqrt(8*EJ/EC))) \\\n",
    "       for m in range(Nj)]\n",
    "    return 2*epj/(epj[1]-epj[0])\n",
    "\n",
    "# Get the steady state intensity\n",
    "def intensity(xi, wd, EC, EJ):\n",
    "    jkets = getJKets(EC, EJ)\n",
    "    nkets = getPhotonKets()\n",
    "    # truncate to N = 7 Hilbert space\n",
    "    pN = projN(3, nkets, jkets)\n",
    "    # print(pN)\n",
    "    \n",
    "    \n",
    "    # Damping terms\n",
    "    c_ops = []\n",
    "    c_ops.append(kappa*lindblad_dissipator(a))\n",
    "    \n",
    "    temp = 0*tensor(qeye(Nr), qeye(Nj))\n",
    "    for j in range(Nj-1):\n",
    "        temp += alphaj[j]*jkets[j].dag()*jkets[j+1]\n",
    "    c_ops.append(gamma1*lindblad_dissipator(temp))\n",
    "    \n",
    "    temp = 0*tensor(qeye(Nr), qeye(Nj))\n",
    "    for j in range(Nj-1):\n",
    "        temp += betaj(EC, EJ)[j]*jkets[j].dag()*jkets[j]\n",
    "    c_ops.append(gammaphi/2*lindblad_dissipator(temp))\n",
    "    \n",
    "    gnd = tensor(basis(Nr,1), basis(Nj,0)) # |1,g>\n",
    "    # print(gnd)\n",
    "    rho0 = ket2dm(gnd)\n",
    "    \n",
    "    maxT = 0.3*T1 # ideally this would be longer but it's taking too long to run\n",
    "    times = np.linspace(0, maxT, num=int(maxT))\n",
    "    \n",
    "    Hjc = getHjc(xi, wd, jkets, pN)\n",
    "\n",
    "    # output = mesolve(Hjc, rho0, times, c_ops, [a], options=Options(nsteps=100000))\n",
    "    # rho_t = output.states # rho(t)\n",
    "    # print(rho_t)\n",
    "    \n",
    "    # output = mesolve(Hjc, rho0, times, c_ops, [a], options=Options(nsteps=1000), progress_bar=True)\n",
    "    output = mesolve(Hjc, rho0, times, c_ops, [a])\n",
    "    expect_a = output.expect[0]\n",
    "    # print(expect_a)\n",
    "    \n",
    "    # Bishop Eq. 2 (steady state transmission amp)\n",
    "    intensity_t = np.abs(expect_a)**2 # A^2/A1^2\n",
    "    # print(intensity_t)\n",
    "    result = np.average(intensity_t[int(maxT)-10:])\n",
    "    return result\n",
    "\n",
    "# print(intensity(xi, wd, EC, EJ))"
   ]
  },
  {
   "cell_type": "code",
   "execution_count": 12,
   "metadata": {},
   "outputs": [
    {
     "name": "stdout",
     "output_type": "stream",
     "text": [
      "0 of 10 done\n",
      "1 of 10 done\n",
      "2 of 10 done\n",
      "3 of 10 done\n",
      "4 of 10 done\n",
      "5 of 10 done\n",
      "6 of 10 done\n",
      "7 of 10 done\n",
      "8 of 10 done\n",
      "9 of 10 done\n",
      "Done with strength=20.0\n"
     ]
    },
    {
     "data": {
      "image/png": "[encoded data removed]",
      "text/plain": [
       "<Figure size 432x288 with 1 Axes>"
      ]
     },
     "metadata": {
      "needs_background": "light"
     },
     "output_type": "display_data"
    }
   ],
   "source": [
    "# Figure 2\n",
    "\n",
    "# this needs to be like 500 or sthg, but this already takes forever\n",
    "nPoints = 10\n",
    "xData = np.linspace(6*GHz, 8*GHz, num = nPoints)\n",
    "fig2FullYData = []\n",
    "\n",
    "    \n",
    "# drive strength: expect supersplitting when strength>1\n",
    "# strengths = [0.8, 5, 20, 100]\n",
    "strengths = [20]\n",
    "for strength in strengths:\n",
    "    xi = (1/np.sqrt(2*T1p*T2p))*strength\n",
    "    fig2FullYData = []\n",
    "    for i, fd in enumerate(xData):\n",
    "#         if i % 10 == 0:\n",
    "#             print(\"%d of %d done\" % (i, nPoints))\n",
    "        print(\"%d of %d done\" % (i, nPoints))\n",
    "        fig2FullYData.append(intensity(xi, fd*2*np.pi, EC, bestEJ))\n",
    "    print(\"Done with strength=%.1f\" % strength)\n",
    "    \n",
    "    plt.plot(xData, fig2FullYData)\n",
    "    plt.xlabel('Drive frequency (GHz)')\n",
    "    plt.ylabel('Transmitted intensity A^2/A1^2')\n",
    "#     plt.ylim(0, 0.1)\n",
    "    plt.title(\"Intensity at xi=%f\" % xi)\n",
    "    plt.show()"
   ]
  },
  {
   "cell_type": "code",
   "execution_count": null,
   "metadata": {},
   "outputs": [],
   "source": [
    "plt.plot(xData, fig2FullYData)\n",
    "plt.xlabel('Drive frequency (GHz)')\n",
    "plt.ylabel('Transmitted intensity A^2/A1^2')\n",
    "plt.title(\"Intensity at xi=%f\" % xi)\n",
    "plt.show()\n",
    "\n",
    "# Lol idk why this plot is so weird, maybe just need more points"
   ]
  },
  {
   "cell_type": "code",
   "execution_count": null,
   "metadata": {},
   "outputs": [],
   "source": []
  }
 ],
 "metadata": {
  "kernelspec": {
   "display_name": "Python 3",
   "language": "python",
   "name": "python3"
  },
  "language_info": {
   "codemirror_mode": {
    "name": "ipython",
    "version": 3
   },
   "file_extension": ".py",
   "mimetype": "text/x-python",
   "name": "python",
   "nbconvert_exporter": "python",
   "pygments_lexer": "ipython3",
   "version": "3.7.6"
  }
 },
 "nbformat": 4,
 "nbformat_minor": 2
}
