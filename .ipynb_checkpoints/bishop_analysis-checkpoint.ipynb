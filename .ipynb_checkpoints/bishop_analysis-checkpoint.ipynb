{
 "cells": [
  {
   "cell_type": "markdown",
   "metadata": {},
   "source": [
    "Bishop et al: https://www.nature.com/articles/nphys1154\n",
    "\n",
    "Qutip reference:\n",
    "\n",
    "https://nbviewer.jupyter.org/github/qutip/qutip-notebooks/blob/master/examples/rabi-oscillations.ipynb\n",
    "\n",
    "http://qutip.org/docs/3.1.0/apidoc/functions.html\n",
    "\n",
    "Koch 2007: https://arxiv.org/pdf/cond-mat/0703002.pdf"
   ]
  },
  {
   "cell_type": "code",
   "execution_count": 1,
   "metadata": {},
   "outputs": [],
   "source": [
    "%matplotlib inline"
   ]
  },
  {
   "cell_type": "code",
   "execution_count": 2,
   "metadata": {
    "scrolled": true
   },
   "outputs": [],
   "source": [
    "import matplotlib.pyplot as plt\n",
    "import numpy as np\n",
    "from scipy import optimize, stats, integrate\n",
    "from qutip import *\n",
    "# Note to self: ^ IS NOT POWER, ** IS POWER"
   ]
  },
  {
   "cell_type": "code",
   "execution_count": 3,
   "metadata": {},
   "outputs": [],
   "source": [
    "# h = 6.62607004*10**(-34)\n",
    "hbar = 1 # NECESSARY TO MAKE SOLVER WORK\n",
    "h = hbar*2*np.pi\n",
    "\n",
    "# Unit conversions\n",
    "# MHz = 10.0**6\n",
    "# GHz = 10.0**9\n",
    "# kHz = 10.0**3\n",
    "# mus = 10.0**-6\n",
    "# ns = 10.0**-9\n",
    "MHz = 10.0**(-3)\n",
    "GHz = 1.0 # NECESSARY TO MAKE SOLVER WORK\n",
    "kHz = 10.0**(-6)\n",
    "mus = 10.0**3\n",
    "ns = 1.0\n",
    "\n",
    "# Transmon constants\n",
    "EC = 400*MHz*h\n",
    "EJ = 100*EC # temporary\n",
    "\n",
    "# number of cavity states\n",
    "Nr = 3\n",
    "# number of transmon states\n",
    "Nj = 4\n",
    "\n",
    "# cavity/resonator frequency\n",
    "wr = 2*np.pi*6.92*GHz\n",
    "# transmon frequency (temporary)\n",
    "wj = np.asarray([wr]*Nj)\n",
    "# drive frequency (temporary)\n",
    "wd = wr\n",
    "\n",
    "# transmon-resonator coupling strength\n",
    "g0 = np.pi*347*MHz\n",
    "gj = g0 * np.asarray([np.sqrt(j+1) for j in range(Nj)])\n",
    "\n",
    "# cavity dissipation rate\n",
    "kappa = 2*np.pi*300*kHz\n",
    "# transmon relaxation rate (2pi/T1)\n",
    "T1 = 1.7*mus\n",
    "gamma1 = 2*np.pi/(T1)\n",
    "# transmon dephasing rate\n",
    "gammaphi = 0.0\n",
    "# relative strengths of damping\n",
    "alphaj = gj/g0\n",
    "# charge dispersion (from Koch eq. 2.5)\n",
    "epj = [((-1)**m * EC * 2**(4*m+5)/(np.math.factorial(m)) * \\\n",
    "        np.sqrt(2/np.pi) * (EJ/(2*EC))**(m/2+3/4) * \\\n",
    "        np.exp(-np.sqrt(8*EJ/EC))) \\\n",
    "       for m in range(Nj)]\n",
    "betaj = 2*epj/(epj[1]-epj[0]) \n",
    "\n",
    "use_rwa = True\n",
    "\n",
    "a = tensor(destroy(Nr), qeye(Nj)) # cavity op"
   ]
  },
  {
   "cell_type": "code",
   "execution_count": 4,
   "metadata": {},
   "outputs": [],
   "source": [
    "def comm(a, b):\n",
    "    return(a*b - b*a)"
   ]
  },
  {
   "cell_type": "code",
   "execution_count": 5,
   "metadata": {},
   "outputs": [],
   "source": [
    "# Transmon states from perturbation theory (Koch p. 19)\n",
    "def getJKets(EC, EJ):\n",
    "    b = destroy(Nj) # pure SHO operators\n",
    "    Hsho = np.sqrt(8*EC*EJ)*(b.dag()*b + 1/2)-EJ\n",
    "    evals, ekets = Hsho.eigenstates()\n",
    "#     print(evals/hbar)\n",
    "    ECorrect = [evals[j] - EC/12*(6*j**2 + 6*j + 3) for j in range(Nj)]\n",
    "#     print(\"%.3e\" % (ECorrect[0]/hbar))\n",
    "#     print(\"%.3e\" % ((ECorrect[2]-ECorrect[1]-(ECorrect[1]-ECorrect[0]))/hbar))\n",
    "    jketsCorrect = np.copy(ekets)\n",
    "    jkets1 = np.asarray([0*basis(Nj,0)]*Nj, dtype=object)\n",
    "    for j in range(Nj):\n",
    "        for i in range(Nj):\n",
    "            if i == j: continue\n",
    "            quartic = (b+b.dag())**4\n",
    "            element = quartic.matrix_element(ekets[i], ekets[j])\n",
    "            jkets1[j] += (element*ekets[i])/(ECorrect[i]-ECorrect[j])\n",
    "        jkets1[j] *= -EC/12\n",
    "    jketsCorrect += jkets1\n",
    "    \n",
    "    return jketsCorrect"
   ]
  },
  {
   "cell_type": "code",
   "execution_count": 6,
   "metadata": {},
   "outputs": [],
   "source": [
    "# JC with coherent drive (Bishop p. 1)\n",
    "\n",
    "def getHjc(xi, wd, jkets):\n",
    "    Hjc_0 = hbar*wr*a.dag()*a\n",
    "    for j in range(Nj):\n",
    "        Hjc_0 += hbar*wj[j]*tensor(qeye(Nr), ket2dm(jkets[j]))\n",
    "    for j in range(Nj-1):\n",
    "        temp = a*tensor(qeye(Nr), jkets[j+1]*jkets[j].dag())\n",
    "        Hjc_0 += hbar*gj[j]*(temp + temp.dag())\n",
    "    \n",
    "    # Break up Hjc into time independent, dependent to put into mesolve\n",
    "    # (See http://qutip.org/docs/latest/guide/dynamics/dynamics-time.html)\n",
    "    Hjc_1 = hbar*xi*a.dag()\n",
    "    Hjc_2 = hbar*xi*a\n",
    "    def Hjc1_time_dep(t, args):\n",
    "        return np.exp(-1j*wd*t)\n",
    "    def Hjc2_time_dep(t, args):\n",
    "        return np.exp(1j*wd*t)\n",
    "    \n",
    "    Hjc = [Hjc_0, [Hjc_1, Hjc1_time_dep], [Hjc_2, Hjc2_time_dep]]\n",
    "    # Hjc = Hjc_0\n",
    "    # print(Hjc_0)\n",
    "    return Hjc"
   ]
  },
  {
   "cell_type": "code",
   "execution_count": 7,
   "metadata": {},
   "outputs": [],
   "source": [
    "# Master eqn solver\n",
    "\n",
    "# Get the steady state intensity\n",
    "def intensity(xi, wd, EC, EJ):\n",
    "    jkets = getJKets(EC, EJ)\n",
    "    \n",
    "    # Damping terms\n",
    "    c_ops = []\n",
    "    c_ops.append(kappa*lindblad_dissipator(a))\n",
    "    \n",
    "    temp = 0*tensor(qeye(Nr), qeye(Nj))\n",
    "    for j in range(Nj-1):\n",
    "        temp += alphaj[j]*jkets[j].dag()*jkets[j+1]\n",
    "    c_ops.append(gamma1*lindblad_dissipator(temp))\n",
    "    \n",
    "    temp = 0*tensor(qeye(Nr), qeye(Nj))\n",
    "    for j in range(Nj-1):\n",
    "        temp += betaj[j]*jkets[j].dag()*jkets[j]\n",
    "    c_ops.append(gammaphi/2*lindblad_dissipator(temp))\n",
    "    \n",
    "    gnd = tensor(basis(Nr,1), basis(Nj,0)) # |1,g>\n",
    "    # print(gnd)\n",
    "    rho0 = ket2dm(gnd)\n",
    "    \n",
    "    maxT = 0.25*T1 # ideally this would be longer but it's taking too long to run\n",
    "    times = np.linspace(0, maxT, num=int(maxT))\n",
    "    \n",
    "    # output = mesolve(Hjc, rho0, times, c_ops, [a], options=Options(nsteps=100000))\n",
    "    # rho_t = output.states # rho(t)\n",
    "    # print(rho_t)\n",
    "    \n",
    "    Hjc = getHjc(xi, wd, jkets)\n",
    "    # output = mesolve(Hjc, rho0, times, c_ops, [a], options=Options(nsteps=1000), progress_bar=True)\n",
    "    output = mesolve(Hjc, rho0, times, c_ops, [a])\n",
    "    expect_a = output.expect[0]\n",
    "    # print(expect_a)\n",
    "    \n",
    "    # Bishop Eq. 2 (steady state transmission amp)\n",
    "    intensity_t = np.abs(expect_a)**2 # A^2/A1^2\n",
    "    # print(intensity_t)\n",
    "    result = np.average(intensity_t[int(maxT)-10:])\n",
    "    return result\n",
    "\n",
    "# print(intensity(xi, wd, EJ, EC))"
   ]
  },
  {
   "cell_type": "code",
   "execution_count": 10,
   "metadata": {},
   "outputs": [
    {
     "name": "stdout",
     "output_type": "stream",
     "text": [
      "1 of 20 done\n",
      "2 of 20 done\n",
      "3 of 20 done\n",
      "4 of 20 done\n",
      "5 of 20 done\n",
      "6 of 20 done\n",
      "7 of 20 done\n",
      "8 of 20 done\n",
      "9 of 20 done\n",
      "10 of 20 done\n",
      "11 of 20 done\n",
      "12 of 20 done\n",
      "13 of 20 done\n",
      "14 of 20 done\n",
      "15 of 20 done\n",
      "16 of 20 done\n",
      "17 of 20 done\n",
      "18 of 20 done\n",
      "19 of 20 done\n",
      "20 of 20 done\n"
     ]
    }
   ],
   "source": [
    "# Figure 2\n",
    "\n",
    "# this needs to be like 500 or sthg, but this already takes forever\n",
    "nPoints = 100\n",
    "xData = np.linspace(6.85*GHz, 6.95*GHz, num = nPoints)\n",
    "yData = []\n",
    "\n",
    "# drive strength (temporary)\n",
    "xi = wd/1000\n",
    "for i, fd in enumerate(xData):\n",
    "    yData.append(intensity(xi, fd*2*np.pi, EJ, EC))\n",
    "    print(\"%d of %d done\" % (i+1, nPoints))"
   ]
  },
  {
   "cell_type": "code",
   "execution_count": 12,
   "metadata": {},
   "outputs": [
    {
     "data": {
      "image/png": "[encoded data removed]",
      "text/plain": [
       "<Figure size 432x288 with 1 Axes>"
      ]
     },
     "metadata": {
      "needs_background": "light"
     },
     "output_type": "display_data"
    }
   ],
   "source": [
    "plt.plot(xData, yData)\n",
    "plt.xlabel('Drive frequency (GHz)')\n",
    "plt.ylabel('Transmitted intensity A^2/A1^2')\n",
    "plt.title(\"Intensity at xi=%f\" % xi)\n",
    "plt.show()\n",
    "\n",
    "# Lol idk why this plot is so weird, maybe just need more points"
   ]
  },
  {
   "cell_type": "code",
   "execution_count": null,
   "metadata": {},
   "outputs": [],
   "source": []
  }
 ],
 "metadata": {
  "kernelspec": {
   "display_name": "Python 3",
   "language": "python",
   "name": "python3"
  },
  "language_info": {
   "codemirror_mode": {
    "name": "ipython",
    "version": 3
   },
   "file_extension": ".py",
   "mimetype": "text/x-python",
   "name": "python",
   "nbconvert_exporter": "python",
   "pygments_lexer": "ipython3",
   "version": "3.7.4"
  }
 },
 "nbformat": 4,
 "nbformat_minor": 2
}
